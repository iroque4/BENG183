{
 "cells": [
  {
   "cell_type": "markdown",
   "id": "ce107be5-ea3d-4a11-9bf4-dbf8808d5b19",
   "metadata": {},
   "source": [
    "# Sequencing Technologies\n",
    "\n",
    "### Written by: Nidhi Pareddy, Ivana Roque, Ananya Prasad"
   ]
  },
  {
   "cell_type": "markdown",
   "id": "060c1635-ebbc-4e1c-9e9d-e9df002c76c4",
   "metadata": {},
   "source": [
    "## Contents\n",
    "- Introduction\n",
    "- DNA Strcuture and ddNTPs\n",
    "- Sanger Sequencing\n",
    "- Next Generation Sequencing"
   ]
  },
  {
   "cell_type": "markdown",
   "id": "3f6e8f8f-3a69-4691-b4fe-20e08726225d",
   "metadata": {},
   "source": [
    "## Introduction"
   ]
  },
  {
   "cell_type": "markdown",
   "id": "b6bb1a8d-a26f-423d-be38-3c69f7e432b4",
   "metadata": {},
   "source": [
    "DNA sequencing is a extremely important development to the field of molecular biology and other fields. Such development of sequencing technologies can have a wide variety of applications. Notably, the development of these techniques has enabled the human genome to be sequenced and is used in many clinical applications. To give a few examples, some applications include diagnosis of genetic disorders, guiding treatment decisions (precision medicine), understanding evolutionary relationships, identifying microbes in environmental samples, and much more.\n",
    "\n",
    "Before dicussing about sequencing techniques and technologies, it is important to familiarize ourselves with the structure of DNA, the process of DNA synthesis, and dideoxynucleoside triphosphates."
   ]
  },
  {
   "cell_type": "markdown",
   "id": "baf6a257-afdf-4e15-962d-26dcb976187d",
   "metadata": {},
   "source": [
    "## DNA structure\n",
    "DNA is composed of repeating subunits called nucleotides. These nucleotides are composed of three main components: the phosphate group, the sugar, and the nitrogenous base. The linking of nucleotides is faciliated by a DNA polymerase where the main reaction is the nucleophilic attack of the 3' hydroxyl group at the end of the growing strand to the 5' alpha phosphate of the incoming dNTP. The result of this reaction is the formation of a phosphodiester bond between the growing stand and the newly attached nucleotide. However, if the additional nucleotide to be added is a ddNTP, termination of DNA synthesis will occur due to the lack of a 3' hydroxyl group.\n",
    "\n",
    "<div style=\"text-align:center\">\n",
    "    <img src='beng_183_images/ddntp.png' width='600'/>\n",
    "    <figcaption>Figure 1.1: ddNTP</figcaption>\n",
    "</div>"
   ]
  },
  {
   "cell_type": "markdown",
   "id": "78ef91f7-2a62-4344-bb1c-cc2fdbe1a0dd",
   "metadata": {},
   "source": [
    "## Sanger Sequencing\n",
    "\n",
    "Sanger Sequencing was developed by Fredrick Sanger in 1977 to sequence DNA based on selectively adding dNTPs and ddNTPs by DNA polymerase during DNA replication in vitro [1]. Sanger sequencing was used in the Human Genome Project to determine the sequencing of small DNA fragments through the overlapping of portions of the fragments to recreate the sequence of longer regions of DNA [2]. Though slow and costly, Sanger Sequencing is still used today to sequence fragments of DNA in instances of DNA cloning or PCR [2].\n",
    "\n",
    "### Method \n",
    "\n",
    "Simple chain termination method requires a single stranded template DNA, a primer, DNA polymerase, dNTPs and ddNTPs. The addition of ddNTPs terminates the elongation process due to its lack of a 3’- OH group [2]. The principle behind Sanger sequencing is to recreate enough fragments of the DNA template strand ending at different nucleotide bases to sequence the original strand [2]. \n",
    "\n",
    "<div style=\"text-align:center\">\n",
    "    <img src='beng_183_images/sanger2.png' width='600'/>\n",
    "    <figcaption>Figure 2.1: Sanger sequencing steps diagram.</figcaption>\n",
    "</div>\n",
    "\n",
    "### Steps \n",
    "1. First, a mixture is created with the template strand, primer, dNTPs and a small quantity of ddNTPs tagged with different colors of dye.\n",
    "2. This mixture is heated to denature the template strand and is cooled so the primer can attach to the now single stranded template.\n",
    "3. The temperature is risen so DNA polymerase can add nucleotides starting from the primer sequence onwards. When a dideoxy nucleotide is added instead of a nucleotide, the strand terminates as no more nucleotides can be added.\n",
    "4. This cycle is repeated continuously so there is a guarantee that all the ddNTPs have been added to every position in the template single strand.\n",
    "5. Finally, the mixture will now contain fragments of varying lengths concluding at every nucleotide position.\n",
    "6. Using the capillary gel electrophoresis method to sequence the fragments, the mixture is then put through a capillary tube. Smaller fragments move faster than larger fragments. Each fragment is illuminated by a laser, the dye is detected corresponding to one of the four types of nucleotides.\n",
    "7. Once the data is recorded, the DNA sequence can be read from the peaks in the chromatogram.\n",
    "\n",
    "<div style=\"text-align:center\">\n",
    "    <img src='beng_183_images/sanger.png' width='600'/>\n",
    "    <figcaption>Figure 2.2: Sanger sequencing chromatogram</figcaption>\n",
    "</div>\n",
    "\n",
    "8. We can also run gel electrophoresis on the DNA fragments to separate them by size. The larger fragments travel slower, meaning that we read the gel from the bottom up. The colors correspond to the different nucleotide bases: Adenine, Thymine, Guanine, and Cytosine.[2]\n",
    "\n",
    "<div style=\"text-align:center\">\n",
    "    <img src='beng_183_images/gelelctro.png' width='600'/>\n",
    "    <figcaption>Figure 2.3: Sanger sequencing results using the gel electrophoresis method.</figcaption>\n",
    "</div>\n",
    "\n",
    "\n",
    "### Advantages and Limitations\n",
    "\n",
    "Sanger sequencing allows for the sequencing of around 900 base pairs, making it perfect for situations such as PCR [1]. In addition, when kept under 900 base pairs, the tradeoff between cost and precision is not an issue as it is relatively cost effective. This means that lengths of around 900bp can be sequenced with high precision for a lower cost. \n",
    "\n",
    "On the other hand, sequencing DNA strands of above 1000 bp proves to be both expensive as well as slow. In the case of large scale sequencing, techniques such as next generation sequencing would be faster [2]. "
   ]
  },
  {
   "cell_type": "markdown",
   "id": "73e45ee2-c43d-49f6-8516-80abd662b64d",
   "metadata": {},
   "source": [
    "## Next Generation Sequencing\n",
    "\n",
    "Next Generation Sequencing (NGS) is a revolutionary technology that has transformed DNA and RNA sequencing in the field of bioinformatics. In contrast to the high time cost of Sanger sequencing, NGS can sequence the entire human genome within less than a day. Applications include sequencing the whole genome, sequencing target regions, analyzing epigenetic factors, studying the microbiome, and identifying novel pathogens. [3]\n",
    "\n",
    "While NGS refers to any sequencing technology that is high throughput (sequencing millions of strands in parallel), we will be discussing the methodology behind Illumina’s NGS technology. [4]\n",
    "\n",
    "### Method\n",
    "Illumina NGS technology uses a sequencing by synthesis method to track labeled DNA nucleotides in a massive cluster of DNA strand copies.\n",
    "\n",
    "### Steps\n",
    "1. Sample Preparation\n",
    "    1. The DNA is fragmented\n",
    "    2. Two adapters are ligated to the ends of the DNA fragments\n",
    "    3. PCR  is used to amplify these fragments\n",
    "<div style=\"text-align:center\">\n",
    "    <img src='beng_183_images/fragment.png' width='600'/>\n",
    "    <figcaption>Figure 3.1: DNA fragmentation and sample preparation</figcaption>\n",
    "</div>\n",
    "\n",
    "\n",
    "2. Bridge Amplification and Cluster Generation\n",
    "    1. The DNA fragments are amplified and sequenced on a flow cell (pictured below)\n",
    "<div style=\"text-align:center\">\n",
    "    <img src='beng_183_images/flowcell.png' width='300'/>\n",
    "    <figcaption>Figure 3.2: Illumina Flow Cell</figcaption>\n",
    "</div>\n",
    "    3. The flow cell has 2 types of oligonucleotides attached to its surface. These oligonucleotides are complementary to the 2 adapters ligated to the DNA fragments earlier\n",
    "    4. The DNA fragments are loaded onto the flow cell via hybridization to the oligonucleotides\n",
    "    5. A polymerase creates a compliment of the fragment\n",
    "    6. The original template is denatured and washed away\n",
    "    7. The fragment folds over and hybridizes to the other oligonucleotide\n",
    "    8. A polymerase creates a complement, forming a double bridge\n",
    "    9. The strands unbridge into a forward and reverse strand attached to the flow cell surface\n",
    "<div style=\"text-align:center\">\n",
    "    <img src='beng_183_images/bridge.png' width='600'/>\n",
    "    <figcaption>Figure 3.3: Bridge amplification on flow cell</figcaption>\n",
    "</div>      \n",
    "    10. The bridging process is repeated until there is a cluster of strands\n",
    "    11. Then, either the forward or reverse strand is denatured and washed away to avoid directionality conflicts during sequencing\n",
    "<div style=\"text-align:center\">\n",
    "    <img src='beng_183_images/cluster.png' width='600'/>\n",
    "    <figcaption>Figure 3.4: Cluster generation on flow cell</figcaption>\n",
    "</div>\n",
    "        \n",
    "3. Sequencing by synthesis\n",
    "    1. The flow cell is loaded into the sequencer\n",
    "    2. A primer binds to the tethered strand\n",
    "    3. Four reversibly-labeled nucleotides (A, C, G, T) are added\n",
    "    4. The complementary nucleotide is incorporated,the color signal is read, the dye and other nucleotides are washed away\n",
    "    5. This process is repeated until the whole sequence has been imaged [5]\n",
    "<div style=\"text-align:center\">\n",
    "    <img src='beng_183_images/sequencingbysynth.png' width='600'/>\n",
    "    <figcaption>Figure 3.5: Sequencing by synthesis</figcaption>\n",
    "</div>\n",
    "\n",
    "### Advantages and Limitations\n",
    "1. Advantages\n",
    "    1. High throughput\n",
    "    2. Cost efficient\n",
    "    3. Time efficient\n",
    "    4. Precise and Accurate\n",
    "2. Limitations\n",
    "    1. Short read lengths\n",
    "    2. Error rate of 0.1-1% per nucleotide\n"
   ]
  },
  {
   "cell_type": "markdown",
   "id": "26cc22f8-30dc-441c-8706-d28e10d34d4a",
   "metadata": {},
   "source": [
    "## Conclusion\n",
    "There are many advantages and disadvantages for different DNA sequencing technologies. Sanger sequencing is most beneficial when sequencing smaller fragments of DNA while NGS is suited for larger sequences. In addition, each technique has a different run time depending on the nucleotide count. NGS is perfect for cases where accuracy and cost is a priority when sequencing larger DNA fragments. When sequencing specific fragments, Sanger sequencing is more cost effective. Therefore, the use case must be taken into account when deciding on which technology must be applied. "
   ]
  },
  {
   "cell_type": "markdown",
   "id": "6d47ef0e-b1be-4342-8375-29b2af1a3c9e",
   "metadata": {},
   "source": [
    "## Sources Used\n",
    "1. https://urldefense.com/v3/__https://www.sigmaaldrich.com/US/en/technical-documents/protocol/genomics/sequencing/sanger-sequencing*5Cn__;JQ!!Mih3wA!CtY8M5ec6-rtYrYzTdIDQgTfWlNo3kD_sPCez-3zKg56hRExsV1cG_bhng4o0Pg_TsSdoi2XpZ4lrJkYNQ$ \n",
    "2. https://urldefense.com/v3/__https://www.khanacademy.org/science/ap-biology/gene-expression-and-regulation/biotechnology/a/dna-sequencing*5Cn__;JQ!!Mih3wA!CtY8M5ec6-rtYrYzTdIDQgTfWlNo3kD_sPCez-3zKg56hRExsV1cG_bhng4o0Pg_TsSdoi2XpZ4SXLRxBA$ \n",
    "3. https://urldefense.com/v3/__https://www.ncbi.nlm.nih.gov/pmc/articles/PMC3841808/*5Cn__;JQ!!Mih3wA!CtY8M5ec6-rtYrYzTdIDQgTfWlNo3kD_sPCez-3zKg56hRExsV1cG_bhng4o0Pg_TsSdoi2XpZ6LCRX8tA$ \n",
    "4. https://urldefense.com/v3/__https://www.illumina.com/science/technology/next-generation-sequencing.html*5Cn__;JQ!!Mih3wA!CtY8M5ec6-rtYrYzTdIDQgTfWlNo3kD_sPCez-3zKg56hRExsV1cG_bhng4o0Pg_TsSdoi2XpZ42ymhN3w$ \n",
    "5. https://urldefense.com/v3/__https://www.illumina.com/documents/products/techspotlights/techspotlight_sequencing.pdf*5Cn__;JQ!!Mih3wA!CtY8M5ec6-rtYrYzTdIDQgTfWlNo3kD_sPCez-3zKg56hRExsV1cG_bhng4o0Pg_TsSdoi2XpZ5yRMQ9yQ$ \n",
    "6. https://urldefense.com/v3/__https://bio.libretexts.org/Courses/Portland_Community_College/Cascade_Microbiology/22*3A_Appendix_B_-_Molecular_Genetics_Review/22.2*3A_Structure_and_Function_of_DNA*5Cn__;JSUl!!Mih3wA!CtY8M5ec6-rtYrYzTdIDQgTfWlNo3kD_sPCez-3zKg56hRExsV1cG_bhng4o0Pg_TsSdoi2XpZ7ZYtS2Xw$ \n",
    "7. https://urldefense.com/v3/__https://www.thetech.org/ask-a-geneticist/articles/2019/sanger-vs-next-gen-sequencing/*5Cn__;JQ!!Mih3wA!CtY8M5ec6-rtYrYzTdIDQgTfWlNo3kD_sPCez-3zKg56hRExsV1cG_bhng4o0Pg_TsSdoi2XpZ4fsT9_qA$ \n",
    "8. https://urldefense.com/v3/__https://www.illumina.com/documents/products/techspotlights/techspotlight_sequencing.pdf*5Cn__;JQ!!Mih3wA!CtY8M5ec6-rtYrYzTdIDQgTfWlNo3kD_sPCez-3zKg56hRExsV1cG_bhng4o0Pg_TsSdoi2XpZ5yRMQ9yQ$ \n",
    "9. https://urldefense.com/v3/__https://www.genome.gov/genetics-glossary/Polymerase-Chain-Reaction*5Cn__;JQ!!Mih3wA!CtY8M5ec6-rtYrYzTdIDQgTfWlNo3kD_sPCez-3zKg56hRExsV1cG_bhng4o0Pg_TsSdoi2XpZ43PN_rwQ$ \n",
    "10. https://urldefense.com/v3/__https://www.fishersci.com/shop/products/proflex-pcr-system-2-x-384-well/4484077*5Cn__;JQ!!Mih3wA!CtY8M5ec6-rtYrYzTdIDQgTfWlNo3kD_sPCez-3zKg56hRExsV1cG_bhng4o0Pg_TsSdoi2XpZ5VC7TLmw$ \n",
    "11. https://urldefense.com/v3/__https://www.broadinstitute.org/files/shared/illuminavids/sequencingSlides.pdf*5Cn__;JQ!!Mih3wA!CtY8M5ec6-rtYrYzTdIDQgTfWlNo3kD_sPCez-3zKg56hRExsV1cG_bhng4o0Pg_TsSdoi2XpZ5AjFnzPA$ \n",
    "12. https://urldefense.com/v3/__https://zhonglab.gitbook.io/3dgenome/chap0-preparation/0.2-sequencing-technologies__;!!Mih3wA!CtY8M5ec6-rtYrYzTdIDQgTfWlNo3kD_sPCez-3zKg56hRExsV1cG_bhng4o0Pg_TsSdoi2XpZ6k7bevhg$  "
   ]
  }
 ],
 "metadata": {
  "kernelspec": {
   "display_name": "Python 3 (ipykernel)",
   "language": "python",
   "name": "python3"
  },
  "language_info": {
   "codemirror_mode": {
    "name": "ipython",
    "version": 3
   },
   "file_extension": ".py",
   "mimetype": "text/x-python",
   "name": "python",
   "nbconvert_exporter": "python",
   "pygments_lexer": "ipython3",
   "version": "3.11.4"
  }
 },
 "nbformat": 4,
 "nbformat_minor": 5
}
